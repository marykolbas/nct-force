{
 "cells": [
  {
   "cell_type": "code",
   "execution_count": 9,
   "id": "5b1815b8-9f49-4f16-845f-f183b46d2e05",
   "metadata": {},
   "outputs": [],
   "source": [
    "import pandas as pd\n",
    "import numpy as np\n",
    "import json"
   ]
  },
  {
   "cell_type": "code",
   "execution_count": 12,
   "id": "9257dba0-3c44-46a1-b044-c9d53eb3600c",
   "metadata": {},
   "outputs": [],
   "source": [
    "with open('chord_data_order1_s.json') as json_data:\n",
    "    data = json.load(json_data)\n",
    "    nodes = pd.DataFrame(data['nodes'])\n",
    "    edges = pd.DataFrame(data['edges'])"
   ]
  },
  {
   "cell_type": "code",
   "execution_count": 16,
   "id": "55f61381-7350-4f19-b5c5-fc9af11ee115",
   "metadata": {},
   "outputs": [],
   "source": [
    "nodes.to_csv('members.csv')"
   ]
  },
  {
   "cell_type": "code",
   "execution_count": 18,
   "id": "96411a48-f1bb-4784-9435-baf1e0e2e2dd",
   "metadata": {},
   "outputs": [],
   "source": [
    "with open('chord_data_order1_withoutmain_withsongs.json') as json_data:\n",
    "    data2 = json.load(json_data)\n",
    "    nodes2 = pd.DataFrame(data2['nodes'])\n",
    "    edges2 = pd.DataFrame(data2['edges'])"
   ]
  },
  {
   "cell_type": "code",
   "execution_count": 20,
   "id": "ea866e37-b353-4552-8914-60e7b9dca903",
   "metadata": {},
   "outputs": [],
   "source": [
    "nodes2.to_csv('members_unique_subunits.csv')"
   ]
  },
  {
   "cell_type": "code",
   "execution_count": null,
   "id": "e73ba10b-613c-4132-9646-d8b198abe0c7",
   "metadata": {},
   "outputs": [],
   "source": []
  }
 ],
 "metadata": {
  "kernelspec": {
   "display_name": "Python 3 (ipykernel)",
   "language": "python",
   "name": "python3"
  },
  "language_info": {
   "codemirror_mode": {
    "name": "ipython",
    "version": 3
   },
   "file_extension": ".py",
   "mimetype": "text/x-python",
   "name": "python",
   "nbconvert_exporter": "python",
   "pygments_lexer": "ipython3",
   "version": "3.8.18"
  }
 },
 "nbformat": 4,
 "nbformat_minor": 5
}
